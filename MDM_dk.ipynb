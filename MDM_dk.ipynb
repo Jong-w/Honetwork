{
 "cells": [
  {
   "cell_type": "code",
   "execution_count": 3,
   "id": "024e0db8",
   "metadata": {
    "ExecuteTime": {
     "start_time": "2023-08-11T14:50:44.080210Z",
     "end_time": "2023-08-11T14:51:31.019809Z"
    }
   },
   "outputs": [],
   "source": [
    "import pickle\n",
    "import gzip\n",
    "import os\n",
    "import pandas as pd\n",
    "os.environ['KMP_DUPLICATE_LIB_OK']='True'\n",
    "\n",
    "with gzip.open('testPickleFile.pickle','rb') as f:\n",
    "    data = pickle.load(f)"
   ]
  },
  {
   "cell_type": "code",
   "execution_count": 4,
   "id": "c13ff5b7",
   "metadata": {
    "ExecuteTime": {
     "start_time": "2023-08-11T14:52:37.871022Z",
     "end_time": "2023-08-11T14:52:37.877776Z"
    }
   },
   "outputs": [],
   "source": [
    "def none_to_zero(list):\n",
    "    new_list = []\n",
    "    for i in list:\n",
    "        if i == None:\n",
    "            i = 0\n",
    "        new_list.append(i)\n",
    "\n",
    "    return new_list\n",
    "\n",
    "def find_reward_index(list):\n",
    "    len_list = []\n",
    "    for i in data['info']:\n",
    "        if i != 0:\n",
    "            len_list.append(data['info'].index(i))\n",
    "    return len_list, len(len_list)"
   ]
  },
  {
   "cell_type": "code",
   "execution_count": 5,
   "id": "7b70a411",
   "metadata": {
    "ExecuteTime": {
     "start_time": "2023-08-11T14:52:39.165749Z",
     "end_time": "2023-08-11T14:52:39.206821Z"
    }
   },
   "outputs": [
    {
     "name": "stdout",
     "output_type": "stream",
     "text": [
      "[821, 1673, 2583, 3587, 4636, 5577, 6204, 7190, 7940, 9830, 10759, 11709, 12637, 13707, 14601, 15547, 16557, 17471, 19395, 20408, 21467, 22375, 26078, 26947, 27780, 28617, 29378, 30359, 31206, 32145, 32783, 33685, 34625, 36592, 37478, 38263, 39295, 41143, 42818, 43732, 44492, 45413, 46431, 47231, 47879, 48617, 49422, 50369, 50717, 51543, 52425, 53228, 54211, 55231, 56139, 56840, 57777, 58677, 59439, 60338, 61306, 62089, 63190, 64218, 64913, 65694, 68553, 69576, 70658, 71503, 73223, 74028, 77023, 78957, 84065, 85144, 86098, 87182, 88148, 89063, 90070, 92087, 92962, 93846, 94544, 95613, 98250]\n",
      "87\n"
     ]
    }
   ],
   "source": [
    "data['info'] = none_to_zero(data['info'])\n",
    "len_list = sorted(list(set(find_reward_index(data['info'])[0])))\n",
    "len_list_len = len(len_list)\n",
    "print(len_list)\n",
    "print(len_list_len)"
   ]
  },
  {
   "cell_type": "code",
   "execution_count": 6,
   "id": "c630159f",
   "metadata": {
    "ExecuteTime": {
     "start_time": "2023-08-11T14:52:41.513104Z",
     "end_time": "2023-08-11T14:52:41.515384Z"
    }
   },
   "outputs": [],
   "source": [
    "hierarchy5_list = []\n",
    "hierarchy4_list = []\n",
    "hierarchy3_list = []\n",
    "length_list = []\n",
    "\n",
    "for i in range(1, len_list_len):\n",
    "    hierarchy5_list.append(data['hierarchy5'][len_list[i-1]:len_list[i]+1])\n",
    "    hierarchy4_list.append(data['hierarchy4'][len_list[i-1]:len_list[i]+1])\n",
    "    hierarchy3_list.append(data['hierarchy3'][len_list[i-1]:len_list[i]+1])\n",
    "    length_list.append(len_list[i] - len_list[i-1])"
   ]
  },
  {
   "cell_type": "code",
   "execution_count": null,
   "outputs": [],
   "source": [],
   "metadata": {
    "collapsed": false
   }
  },
  {
   "cell_type": "code",
   "execution_count": 7,
   "id": "1a90d174",
   "metadata": {
    "ExecuteTime": {
     "start_time": "2023-08-11T14:52:43.635414Z",
     "end_time": "2023-08-11T14:52:44.040015Z"
    }
   },
   "outputs": [],
   "source": [
    "df5 = pd.DataFrame(hierarchy5_list)#.fillna(0)\n",
    "df5.columns = df5.columns.astype(str)\n",
    "\n",
    "df4 = pd.DataFrame(hierarchy4_list)#.fillna(0)\n",
    "df4.columns = df4.columns.astype(str)\n",
    "\n",
    "df3 = pd.DataFrame(hierarchy3_list)#.fillna(0)\n",
    "df3.columns = df3.columns.astype(str)"
   ]
  },
  {
   "cell_type": "code",
   "execution_count": 6,
   "id": "fe082b8a",
   "metadata": {},
   "outputs": [
    {
     "name": "stdout",
     "output_type": "stream",
     "text": [
      "(86, 5109) (86, 5109) (86, 5109)\n",
      "341859 341859 341859\n",
      "5108\n"
     ]
    }
   ],
   "source": [
    "print(df5.shape,df4.shape, df3.shape)\n",
    "print(sum(df5.isnull().sum()), sum(df4.isnull().sum()), sum(df3.isnull().sum()))\n",
    "print(max(length_list))"
   ]
  },
  {
   "cell_type": "code",
   "execution_count": 7,
   "id": "25da7da9",
   "metadata": {},
   "outputs": [],
   "source": [
    "mean_df5 = df5.mean()\n",
    "mean_df4 = df4.mean()\n",
    "mean_df3 = df3.mean()"
   ]
  },
  {
   "cell_type": "code",
   "execution_count": 8,
   "id": "edda63f5",
   "metadata": {},
   "outputs": [
    {
     "data": {
      "text/plain": [
       "0       1.0\n",
       "1       1.0\n",
       "2       1.0\n",
       "3       1.0\n",
       "4       1.0\n",
       "       ... \n",
       "5104    1.0\n",
       "5105    1.0\n",
       "5106    1.0\n",
       "5107    1.0\n",
       "5108    1.0\n",
       "Length: 5109, dtype: float64"
      ]
     },
     "execution_count": 8,
     "metadata": {},
     "output_type": "execute_result"
    }
   ],
   "source": [
    "mean_df5"
   ]
  },
  {
   "cell_type": "code",
   "execution_count": 9,
   "id": "86935b2e",
   "metadata": {},
   "outputs": [
    {
     "data": {
      "image/png": "[encoded data removed]",
      "text/plain": [
       "<Figure size 640x480 with 1 Axes>"
      ]
     },
     "metadata": {},
     "output_type": "display_data"
    }
   ],
   "source": [
    "import numpy as np\n",
    "import matplotlib.pyplot as plt\n",
    "\n",
    "x3 = list(range(0, max(length_list)+1))\n",
    "x2 = list(range(0, max(length_list)+1))\n",
    "x1 = list(range(0, max(length_list)+1))\n",
    "y3 = mean_df5\n",
    "y2 = mean_df4\n",
    "y1 = mean_df3\n",
    "plt.plot(x1, y1, 'b--', x2, y2, 'g--', x3, y3, 'r--')\n",
    "plt.show()"
   ]
  },
  {
   "cell_type": "code",
   "execution_count": null,
   "id": "ba3afb82",
   "metadata": {},
   "outputs": [],
   "source": []
  }
 ],
 "metadata": {
  "kernelspec": {
   "display_name": "Python 3 (ipykernel)",
   "language": "python",
   "name": "python3"
  },
  "language_info": {
   "codemirror_mode": {
    "name": "ipython",
    "version": 3
   },
   "file_extension": ".py",
   "mimetype": "text/x-python",
   "name": "python",
   "nbconvert_exporter": "python",
   "pygments_lexer": "ipython3",
   "version": "3.9.7"
  }
 },
 "nbformat": 4,
 "nbformat_minor": 5
}
